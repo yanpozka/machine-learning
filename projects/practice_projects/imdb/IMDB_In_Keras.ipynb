{
 "cells": [
  {
   "cell_type": "markdown",
   "metadata": {},
   "source": [
    "# Analyzing IMDB Data in Keras"
   ]
  },
  {
   "cell_type": "code",
   "execution_count": 1,
   "metadata": {},
   "outputs": [
    {
     "name": "stderr",
     "output_type": "stream",
     "text": [
      "Using TensorFlow backend.\n"
     ]
    }
   ],
   "source": [
    "# Imports\n",
    "import numpy as np\n",
    "import keras\n",
    "from keras.datasets import imdb\n",
    "from keras.models import Sequential\n",
    "from keras.layers import Dense, Dropout, Activation\n",
    "from keras.preprocessing.text import Tokenizer\n",
    "import matplotlib.pyplot as plt\n",
    "%matplotlib inline\n",
    "\n",
    "np.random.seed(42)"
   ]
  },
  {
   "cell_type": "markdown",
   "metadata": {},
   "source": [
    "## 1. Loading the data\n",
    "This dataset comes preloaded with Keras, so one simple command will get us training and testing data. There is a parameter for how many words we want to look at. We've set it at 1000, but feel free to experiment."
   ]
  },
  {
   "cell_type": "code",
   "execution_count": 2,
   "metadata": {},
   "outputs": [
    {
     "name": "stdout",
     "output_type": "stream",
     "text": [
      "(25000,)\n",
      "(25000,)\n"
     ]
    }
   ],
   "source": [
    "# Loading the data (it's preloaded in Keras)\n",
    "num_words=5000\n",
    "(x_train, y_train), (x_test, y_test) = imdb.load_data(num_words=num_words)\n",
    "\n",
    "print(x_train.shape)\n",
    "print(x_test.shape)"
   ]
  },
  {
   "cell_type": "markdown",
   "metadata": {},
   "source": [
    "## 2. Examining the data\n",
    "Notice that the data has been already pre-processed, where all the words have numbers, and the reviews come in as a vector with the words that the review contains. For example, if the word 'the' is the first one in our dictionary, and a review contains the word 'the', then there is a 1 in the corresponding vector.\n",
    "\n",
    "The output comes as a vector of 1's and 0's, where 1 is a positive sentiment for the review, and 0 is negative."
   ]
  },
  {
   "cell_type": "code",
   "execution_count": 3,
   "metadata": {},
   "outputs": [
    {
     "name": "stdout",
     "output_type": "stream",
     "text": [
      "[1, 11, 4079, 11, 4, 1986, 745, 3304, 299, 1206, 590, 3029, 1042, 37, 47, 27, 1269, 2, 2, 19, 6, 3586, 15, 1367, 3196, 17, 1002, 723, 1768, 2887, 757, 46, 4, 232, 1131, 39, 107, 3589, 11, 4, 4539, 198, 24, 4, 1834, 133, 4, 107, 7, 98, 413, 2, 2, 11, 35, 781, 8, 169, 4, 2179, 5, 259, 334, 3773, 8, 4, 3497, 10, 10, 17, 16, 3381, 46, 34, 101, 612, 7, 84, 18, 49, 282, 167, 2, 2, 122, 24, 1414, 8, 177, 4, 392, 531, 19, 259, 15, 934, 40, 507, 39, 2, 260, 77, 8, 162, 2, 121, 4, 65, 304, 273, 13, 70, 1276, 2, 8, 15, 745, 3304, 5, 27, 322, 2197, 2, 2, 70, 30, 2, 88, 17, 6, 3029, 1042, 29, 100, 30, 4943, 50, 21, 18, 148, 15, 26, 2, 12, 152, 157, 10, 10, 21, 19, 3196, 46, 50, 5, 4, 1636, 112, 828, 6, 1003, 4, 162, 2, 2, 517, 6, 2, 7, 4, 2, 2, 4, 351, 232, 385, 125, 6, 1693, 39, 2383, 5, 29, 69, 2, 2, 6, 162, 2, 1567, 232, 256, 34, 718, 2, 2980, 8, 6, 226, 762, 7, 2, 2, 5, 517, 2, 6, 3242, 7, 4, 351, 232, 37, 9, 1861, 8, 123, 3196, 2, 2, 188, 2, 857, 11, 4, 86, 22, 121, 29, 1990, 1495, 10, 10, 1276, 61, 514, 11, 14, 22, 9, 1456, 2, 14, 575, 208, 159, 2, 16, 2, 5, 187, 15, 58, 29, 93, 6, 2, 7, 395, 62, 30, 1211, 493, 37, 26, 66, 2, 29, 299, 4, 172, 243, 7, 217, 11, 4, 2, 2, 22, 4, 2, 1038, 13, 70, 243, 7, 3468, 19, 2, 11, 15, 236, 1313, 136, 121, 29, 5, 2, 26, 112, 4382, 180, 34, 3304, 1768, 5, 320, 4, 162, 2, 568, 319, 4, 3324, 2, 1456, 269, 8, 401, 56, 19, 2, 16, 142, 334, 88, 146, 243, 7, 11, 2, 2756, 150, 11, 4, 2, 2550, 10, 10, 2, 828, 4, 206, 170, 33, 6, 52, 4968, 225, 55, 117, 180, 58, 11, 14, 22, 48, 50, 16, 101, 329, 12, 62, 30, 35, 2, 1532, 22, 4079, 11, 4, 1986, 1199, 35, 735, 18, 118, 204, 881, 15, 291, 10, 10, 2, 82, 93, 52, 361, 7, 4, 162, 2, 2, 5, 4, 785, 2, 49, 7, 4, 172, 2572, 7, 665, 26, 303, 343, 11, 23, 4, 2, 11, 192, 4079, 11, 4, 1986, 9, 44, 84, 24, 2, 54, 36, 66, 144, 11, 68, 205, 118, 602, 55, 729, 174, 8, 23, 4, 2, 10, 10, 4079, 11, 4, 1986, 127, 316, 2606, 37, 16, 3445, 19, 12, 150, 138, 426, 2, 2, 79, 49, 542, 162, 2, 4413, 84, 11, 4, 392, 555]\n",
      "1\n"
     ]
    }
   ],
   "source": [
    "print(x_train[0])\n",
    "print(y_train[0])"
   ]
  },
  {
   "cell_type": "markdown",
   "metadata": {},
   "source": [
    "## 3. One-hot encoding the output\n",
    "Here, we'll turn the input vectors into (0,1)-vectors. For example, if the pre-processed vector contains the number 14, then in the processed vector, the 14th entry will be 1."
   ]
  },
  {
   "cell_type": "code",
   "execution_count": 4,
   "metadata": {},
   "outputs": [
    {
     "name": "stdout",
     "output_type": "stream",
     "text": [
      "[ 0.  1.  1. ...,  0.  0.  0.]\n"
     ]
    }
   ],
   "source": [
    "# One-hot encoding the output into vector mode, each of length 50000\n",
    "tokenizer = Tokenizer(num_words=num_words)\n",
    "x_train = tokenizer.sequences_to_matrix(x_train, mode='binary')\n",
    "x_test = tokenizer.sequences_to_matrix(x_test, mode='binary')\n",
    "print(x_train[0])"
   ]
  },
  {
   "cell_type": "markdown",
   "metadata": {},
   "source": [
    "And we'll also one-hot encode the output."
   ]
  },
  {
   "cell_type": "code",
   "execution_count": 5,
   "metadata": {},
   "outputs": [
    {
     "name": "stdout",
     "output_type": "stream",
     "text": [
      "(25000, 2)\n",
      "(25000, 2)\n"
     ]
    }
   ],
   "source": [
    "# One-hot encoding the output\n",
    "num_classes = 2\n",
    "y_train = keras.utils.to_categorical(y_train, num_classes)\n",
    "y_test = keras.utils.to_categorical(y_test, num_classes)\n",
    "print(y_train.shape)\n",
    "print(y_test.shape)"
   ]
  },
  {
   "cell_type": "markdown",
   "metadata": {},
   "source": [
    "## 4. Building the  model architecture\n",
    "Build a model here using sequential. Feel free to experiment with different layers and sizes! Also, experiment adding dropout to reduce overfitting."
   ]
  },
  {
   "cell_type": "code",
   "execution_count": 6,
   "metadata": {},
   "outputs": [
    {
     "name": "stdout",
     "output_type": "stream",
     "text": [
      "_________________________________________________________________\n",
      "Layer (type)                 Output Shape              Param #   \n",
      "=================================================================\n",
      "dense_1 (Dense)              (None, 128)               640128    \n",
      "_________________________________________________________________\n",
      "dropout_1 (Dropout)          (None, 128)               0         \n",
      "_________________________________________________________________\n",
      "dense_2 (Dense)              (None, 64)                8256      \n",
      "_________________________________________________________________\n",
      "dropout_2 (Dropout)          (None, 64)                0         \n",
      "_________________________________________________________________\n",
      "dense_3 (Dense)              (None, 2)                 130       \n",
      "=================================================================\n",
      "Total params: 648,514\n",
      "Trainable params: 648,514\n",
      "Non-trainable params: 0\n",
      "_________________________________________________________________\n"
     ]
    }
   ],
   "source": [
    "# Build the model architecture\n",
    "model = Sequential()\n",
    "model.add(Dense(128, activation='relu', input_dim=num_words))\n",
    "model.add(Dropout(0.4))\n",
    "model.add(Dense(64, activation='relu'))\n",
    "model.add(Dropout(0.35))\n",
    "model.add(Dense(num_classes, activation='sigmoid'))\n",
    "model.summary()\n",
    "\n",
    "# Compile the model using a loss function and an optimizer.\n",
    "model.compile(optimizer='rmsprop',\n",
    "              loss='binary_crossentropy',\n",
    "              metrics=['accuracy'])"
   ]
  },
  {
   "cell_type": "markdown",
   "metadata": {},
   "source": [
    "## 5. Training the model\n",
    "Run the model here. Experiment with different batch_size, and number of epochs!"
   ]
  },
  {
   "cell_type": "code",
   "execution_count": 7,
   "metadata": {},
   "outputs": [
    {
     "name": "stdout",
     "output_type": "stream",
     "text": [
      "Train on 25000 samples, validate on 25000 samples\n",
      "Epoch 1/12\n",
      "24960/25000 [============================>.] - ETA: 0s - loss: 0.3635 - acc: 0.8501Epoch 00001: val_loss improved from inf to 0.30797, saving model to /tmp/weights.hdf5\n",
      "25000/25000 [==============================] - 21s 821us/step - loss: 0.3633 - acc: 0.8502 - val_loss: 0.3080 - val_acc: 0.8769\n",
      "Epoch 2/12\n",
      "24928/25000 [============================>.] - ETA: 0s - loss: 0.2636 - acc: 0.8995Epoch 00002: val_loss improved from 0.30797 to 0.29807, saving model to /tmp/weights.hdf5\n",
      "25000/25000 [==============================] - 20s 812us/step - loss: 0.2632 - acc: 0.8997 - val_loss: 0.2981 - val_acc: 0.8793\n",
      "Epoch 3/12\n",
      "24992/25000 [============================>.] - ETA: 0s - loss: 0.2377 - acc: 0.9124Epoch 00003: val_loss improved from 0.29807 to 0.28985, saving model to /tmp/weights.hdf5\n",
      "25000/25000 [==============================] - 20s 809us/step - loss: 0.2378 - acc: 0.9124 - val_loss: 0.2898 - val_acc: 0.8831\n",
      "Epoch 4/12\n",
      "24928/25000 [============================>.] - ETA: 0s - loss: 0.2225 - acc: 0.9179Epoch 00004: val_loss did not improve\n",
      "25000/25000 [==============================] - 20s 797us/step - loss: 0.2224 - acc: 0.9179 - val_loss: 0.3009 - val_acc: 0.8851\n",
      "Epoch 5/12\n",
      "24928/25000 [============================>.] - ETA: 0s - loss: 0.2156 - acc: 0.9211Epoch 00005: val_loss did not improve\n",
      "25000/25000 [==============================] - 20s 798us/step - loss: 0.2155 - acc: 0.9212 - val_loss: 0.3182 - val_acc: 0.8775\n",
      "Epoch 6/12\n",
      "24992/25000 [============================>.] - ETA: 0s - loss: 0.2127 - acc: 0.9238Epoch 00006: val_loss did not improve\n",
      "25000/25000 [==============================] - 19s 778us/step - loss: 0.2128 - acc: 0.9238 - val_loss: 0.3810 - val_acc: 0.8500\n",
      "Epoch 7/12\n",
      "24992/25000 [============================>.] - ETA: 0s - loss: 0.2180 - acc: 0.9251Epoch 00007: val_loss did not improve\n",
      "25000/25000 [==============================] - 20s 790us/step - loss: 0.2179 - acc: 0.9251 - val_loss: 0.3402 - val_acc: 0.8710\n",
      "Epoch 8/12\n",
      "24928/25000 [============================>.] - ETA: 0s - loss: 0.2724 - acc: 0.9118Epoch 00008: val_loss did not improve\n",
      "25000/25000 [==============================] - 20s 788us/step - loss: 0.2728 - acc: 0.9118 - val_loss: 0.4993 - val_acc: 0.8770\n",
      "Epoch 9/12\n",
      "24992/25000 [============================>.] - ETA: 0s - loss: 0.5366 - acc: 0.8931Epoch 00009: val_loss did not improve\n",
      "25000/25000 [==============================] - 19s 764us/step - loss: 0.5365 - acc: 0.8932 - val_loss: 1.0242 - val_acc: 0.8622\n",
      "Epoch 10/12\n",
      "24992/25000 [============================>.] - ETA: 0s - loss: 1.0091 - acc: 0.8886Epoch 00010: val_loss did not improve\n",
      "25000/25000 [==============================] - 20s 812us/step - loss: 1.0088 - acc: 0.8887 - val_loss: 1.5405 - val_acc: 0.8684\n",
      "Epoch 11/12\n",
      "24992/25000 [============================>.] - ETA: 0s - loss: 1.2719 - acc: 0.8978Epoch 00011: val_loss did not improve\n",
      "25000/25000 [==============================] - 20s 803us/step - loss: 1.2715 - acc: 0.8979 - val_loss: 1.7049 - val_acc: 0.8776\n",
      "Epoch 12/12\n",
      "24960/25000 [============================>.] - ETA: 0s - loss: 1.4424 - acc: 0.8971Epoch 00012: val_loss did not improve\n",
      "25000/25000 [==============================] - 20s 783us/step - loss: 1.4428 - acc: 0.8970 - val_loss: 1.8768 - val_acc: 0.8725\n"
     ]
    },
    {
     "data": {
      "text/plain": [
       "<keras.callbacks.History at 0x7f1173c87048>"
      ]
     },
     "execution_count": 7,
     "metadata": {},
     "output_type": "execute_result"
    }
   ],
   "source": [
    "# Run the model. Feel free to experiment with different batch sizes and number of epochs.\n",
    "from keras.callbacks import ModelCheckpoint\n",
    "\n",
    "checkpointer = ModelCheckpoint(filepath='/tmp/weights.hdf5', verbose=1, save_best_only=True)\n",
    "\n",
    "model.fit(x_train, y_train,\n",
    "          epochs = 12,\n",
    "          batch_size = 32,\n",
    "          validation_data = (x_test, y_test),\n",
    "          verbose = 1,\n",
    "          callbacks = [checkpointer])"
   ]
  },
  {
   "cell_type": "markdown",
   "metadata": {},
   "source": [
    "## 6. Evaluating the model\n",
    "This will give you the accuracy of the model, as evaluated on the testing set. Can you get something over 85%?"
   ]
  },
  {
   "cell_type": "code",
   "execution_count": 8,
   "metadata": {},
   "outputs": [
    {
     "name": "stdout",
     "output_type": "stream",
     "text": [
      "Accuracy:  0.8725\n"
     ]
    }
   ],
   "source": [
    "score = model.evaluate(x_test, y_test, verbose=0)\n",
    "print(\"Accuracy: \", score[1]) # 0.86742"
   ]
  },
  {
   "cell_type": "code",
   "execution_count": null,
   "metadata": {},
   "outputs": [],
   "source": []
  }
 ],
 "metadata": {
  "kernelspec": {
   "display_name": "Python 3",
   "language": "python",
   "name": "python3"
  },
  "language_info": {
   "codemirror_mode": {
    "name": "ipython",
    "version": 3
   },
   "file_extension": ".py",
   "mimetype": "text/x-python",
   "name": "python",
   "nbconvert_exporter": "python",
   "pygments_lexer": "ipython3",
   "version": "3.6.3"
  }
 },
 "nbformat": 4,
 "nbformat_minor": 2
}
